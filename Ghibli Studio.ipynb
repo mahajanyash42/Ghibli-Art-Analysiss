{
 "cells": [
  {
   "cell_type": "code",
   "execution_count": 1,
   "id": "631d643c",
   "metadata": {},
   "outputs": [],
   "source": [
    "import numpy as np\n",
    "import seaborn as sns\n",
    "import matplotlib.pyplot as plt\n",
    "import pandas as pd\n",
    "%matplotlib inline"
   ]
  },
  {
   "cell_type": "code",
   "execution_count": 6,
   "id": "621abb22",
   "metadata": {},
   "outputs": [],
   "source": [
    "df = pd.read_csv('Ghibli characters.csv')"
   ]
  },
  {
   "cell_type": "code",
   "execution_count": 13,
   "id": "0b6f1e03",
   "metadata": {},
   "outputs": [
    {
     "data": {
      "text/html": [
       "<div>\n",
       "<style scoped>\n",
       "    .dataframe tbody tr th:only-of-type {\n",
       "        vertical-align: middle;\n",
       "    }\n",
       "\n",
       "    .dataframe tbody tr th {\n",
       "        vertical-align: top;\n",
       "    }\n",
       "\n",
       "    .dataframe thead th {\n",
       "        text-align: right;\n",
       "    }\n",
       "</style>\n",
       "<table border=\"1\" class=\"dataframe\">\n",
       "  <thead>\n",
       "    <tr style=\"text-align: right;\">\n",
       "      <th></th>\n",
       "      <th>character name</th>\n",
       "      <th>age</th>\n",
       "      <th>height (cm)</th>\n",
       "      <th>special powers</th>\n",
       "      <th>country / place of residence</th>\n",
       "      <th>gender</th>\n",
       "      <th>Species</th>\n",
       "      <th>movie</th>\n",
       "      <th>release date</th>\n",
       "    </tr>\n",
       "  </thead>\n",
       "  <tbody>\n",
       "    <tr>\n",
       "      <th>0</th>\n",
       "      <td>Totoro</td>\n",
       "      <td>1302.0</td>\n",
       "      <td>215.0</td>\n",
       "      <td>Flight, teleportation</td>\n",
       "      <td>Japan</td>\n",
       "      <td>Male</td>\n",
       "      <td>Spirit</td>\n",
       "      <td>My Neighbor Totoro</td>\n",
       "      <td>1988</td>\n",
       "    </tr>\n",
       "    <tr>\n",
       "      <th>1</th>\n",
       "      <td>Chihiro</td>\n",
       "      <td>10.0</td>\n",
       "      <td>120.0</td>\n",
       "      <td>NaN</td>\n",
       "      <td>Japan</td>\n",
       "      <td>Female</td>\n",
       "      <td>Human</td>\n",
       "      <td>Spirited Away</td>\n",
       "      <td>2001</td>\n",
       "    </tr>\n",
       "    <tr>\n",
       "      <th>2</th>\n",
       "      <td>Haku</td>\n",
       "      <td>12.0</td>\n",
       "      <td>180.0</td>\n",
       "      <td>Flight, shapeshifting</td>\n",
       "      <td>Japan</td>\n",
       "      <td>Male</td>\n",
       "      <td>Spirit (dragon)</td>\n",
       "      <td>Spirited Away</td>\n",
       "      <td>2001</td>\n",
       "    </tr>\n",
       "    <tr>\n",
       "      <th>3</th>\n",
       "      <td>Princess Mononoke</td>\n",
       "      <td>15.0</td>\n",
       "      <td>150.0</td>\n",
       "      <td>NaN</td>\n",
       "      <td>Japan</td>\n",
       "      <td>Female</td>\n",
       "      <td>Human</td>\n",
       "      <td>Princess Mononoke</td>\n",
       "      <td>1997</td>\n",
       "    </tr>\n",
       "    <tr>\n",
       "      <th>4</th>\n",
       "      <td>Ashitaka</td>\n",
       "      <td>17.0</td>\n",
       "      <td>170.0</td>\n",
       "      <td>Super strength, agility</td>\n",
       "      <td>Japan</td>\n",
       "      <td>Male</td>\n",
       "      <td>Human</td>\n",
       "      <td>Princess Mononoke</td>\n",
       "      <td>1997</td>\n",
       "    </tr>\n",
       "  </tbody>\n",
       "</table>\n",
       "</div>"
      ],
      "text/plain": [
       "      character name     age  height (cm)           special powers  \\\n",
       "0             Totoro  1302.0        215.0    Flight, teleportation   \n",
       "1            Chihiro    10.0        120.0                      NaN   \n",
       "2               Haku    12.0        180.0    Flight, shapeshifting   \n",
       "3  Princess Mononoke    15.0        150.0                      NaN   \n",
       "4           Ashitaka    17.0        170.0  Super strength, agility   \n",
       "\n",
       "  country / place of residence  gender          Species               movie  \\\n",
       "0                        Japan    Male           Spirit  My Neighbor Totoro   \n",
       "1                        Japan  Female            Human       Spirited Away   \n",
       "2                        Japan    Male  Spirit (dragon)       Spirited Away   \n",
       "3                        Japan  Female            Human   Princess Mononoke   \n",
       "4                        Japan    Male            Human   Princess Mononoke   \n",
       "\n",
       "   release date  \n",
       "0          1988  \n",
       "1          2001  \n",
       "2          2001  \n",
       "3          1997  \n",
       "4          1997  "
      ]
     },
     "execution_count": 13,
     "metadata": {},
     "output_type": "execute_result"
    }
   ],
   "source": [
    "df.head()"
   ]
  },
  {
   "cell_type": "code",
   "execution_count": 4,
   "id": "c782750e",
   "metadata": {},
   "outputs": [
    {
     "name": "stdout",
     "output_type": "stream",
     "text": [
      "<class 'pandas.core.frame.DataFrame'>\n",
      "RangeIndex: 56 entries, 0 to 55\n",
      "Data columns (total 9 columns):\n",
      " #   Column                        Non-Null Count  Dtype  \n",
      "---  ------                        --------------  -----  \n",
      " 0   character name                56 non-null     object \n",
      " 1   age                           42 non-null     float64\n",
      " 2   height (cm)                   51 non-null     float64\n",
      " 3   special powers                40 non-null     object \n",
      " 4   country / place of residence  56 non-null     object \n",
      " 5   gender                        56 non-null     object \n",
      " 6   Species                       56 non-null     object \n",
      " 7   movie                         56 non-null     object \n",
      " 8   release date                  56 non-null     int64  \n",
      "dtypes: float64(2), int64(1), object(6)\n",
      "memory usage: 4.1+ KB\n"
     ]
    }
   ],
   "source": [
    "df.info()"
   ]
  },
  {
   "cell_type": "code",
   "execution_count": 8,
   "id": "022373a7",
   "metadata": {},
   "outputs": [],
   "source": [
    "#Data seems cleaned"
   ]
  },
  {
   "cell_type": "markdown",
   "id": "d41a4db2",
   "metadata": {},
   "source": [
    "## Filling the null values"
   ]
  },
  {
   "cell_type": "code",
   "execution_count": 15,
   "id": "08f59239",
   "metadata": {},
   "outputs": [],
   "source": [
    "df.columns = df.columns.str.lower()"
   ]
  },
  {
   "cell_type": "code",
   "execution_count": 22,
   "id": "a3fd8c5d",
   "metadata": {},
   "outputs": [
    {
     "data": {
      "image/png": "[encoded data removed]",
      "text/plain": [
       "<Figure size 432x288 with 1 Axes>"
      ]
     },
     "metadata": {
      "needs_background": "light"
     },
     "output_type": "display_data"
    }
   ],
   "source": [
    "sns.countplot(data = df, x = 'age')\n",
    "plt.xticks(rotation = 45)\n",
    "plt.show()"
   ]
  },
  {
   "cell_type": "code",
   "execution_count": 26,
   "id": "4e08fa7a",
   "metadata": {},
   "outputs": [],
   "source": [
    "df['age']= df['age'].fillna(df['age'].mean())"
   ]
  },
  {
   "cell_type": "code",
   "execution_count": 28,
   "id": "5be382de",
   "metadata": {},
   "outputs": [],
   "source": [
    "df['age'] = np.ceil(df['age'])"
   ]
  },
  {
   "cell_type": "code",
   "execution_count": 29,
   "id": "36525c8a",
   "metadata": {},
   "outputs": [],
   "source": [
    "df['age'] = df['age'].astype(int)"
   ]
  },
  {
   "cell_type": "code",
   "execution_count": 31,
   "id": "891434ad",
   "metadata": {},
   "outputs": [
    {
     "name": "stdout",
     "output_type": "stream",
     "text": [
      "<class 'pandas.core.frame.DataFrame'>\n",
      "RangeIndex: 56 entries, 0 to 55\n",
      "Data columns (total 9 columns):\n",
      " #   Column                        Non-Null Count  Dtype  \n",
      "---  ------                        --------------  -----  \n",
      " 0   character name                56 non-null     object \n",
      " 1   age                           56 non-null     int32  \n",
      " 2   height (cm)                   51 non-null     float64\n",
      " 3   special powers                40 non-null     object \n",
      " 4   country / place of residence  56 non-null     object \n",
      " 5   gender                        56 non-null     object \n",
      " 6   species                       56 non-null     object \n",
      " 7   movie                         56 non-null     object \n",
      " 8   release date                  56 non-null     int64  \n",
      "dtypes: float64(1), int32(1), int64(1), object(6)\n",
      "memory usage: 3.8+ KB\n"
     ]
    }
   ],
   "source": [
    "df.info()"
   ]
  },
  {
   "cell_type": "code",
   "execution_count": 33,
   "id": "7eef3ad0",
   "metadata": {},
   "outputs": [
    {
     "data": {
      "image/png": "[encoded data removed]",
      "text/plain": [
       "<Figure size 432x288 with 1 Axes>"
      ]
     },
     "metadata": {
      "needs_background": "light"
     },
     "output_type": "display_data"
    }
   ],
   "source": [
    "sns.countplot(data = df, x = 'height (cm)')\n",
    "plt.xticks(rotation = 45)\n",
    "plt.show()"
   ]
  },
  {
   "cell_type": "code",
   "execution_count": 35,
   "id": "e444d029",
   "metadata": {},
   "outputs": [
    {
     "data": {
      "text/plain": [
       "0     215.0\n",
       "1     120.0\n",
       "2     180.0\n",
       "3     150.0\n",
       "4     170.0\n",
       "5     110.0\n",
       "6     100.0\n",
       "7      20.0\n",
       "8     130.0\n",
       "9     180.0\n",
       "10    150.0\n",
       "11     30.0\n",
       "12    150.0\n",
       "13    120.0\n",
       "14    150.0\n",
       "15    120.0\n",
       "16    120.0\n",
       "17    120.0\n",
       "18    120.0\n",
       "19    180.0\n",
       "20    150.0\n",
       "21     40.0\n",
       "22     80.0\n",
       "23    100.0\n",
       "24    150.0\n",
       "25    170.0\n",
       "26    150.0\n",
       "27    200.0\n",
       "28    100.0\n",
       "29    150.0\n",
       "30    140.0\n",
       "31    130.0\n",
       "32    120.0\n",
       "33    180.0\n",
       "34    150.0\n",
       "35    150.0\n",
       "36    150.0\n",
       "37    170.0\n",
       "38    130.0\n",
       "39    180.0\n",
       "40    170.0\n",
       "41    120.0\n",
       "42    120.0\n",
       "43    120.0\n",
       "44    120.0\n",
       "45    120.0\n",
       "46    120.0\n",
       "47    100.0\n",
       "48    170.0\n",
       "49    150.0\n",
       "50      NaN\n",
       "51      NaN\n",
       "52      NaN\n",
       "53      NaN\n",
       "54    160.0\n",
       "55      NaN\n",
       "Name: height (cm), dtype: float64"
      ]
     },
     "execution_count": 35,
     "metadata": {},
     "output_type": "execute_result"
    }
   ],
   "source": [
    "df['height (cm)']"
   ]
  },
  {
   "cell_type": "code",
   "execution_count": 37,
   "id": "360a842f",
   "metadata": {},
   "outputs": [],
   "source": [
    "df['height (cm)']= df['height (cm)'].fillna(df['height (cm)'].mean())\n",
    "df['height (cm)'] = np.ceil(df['height (cm)'])\n",
    "df['height (cm)'] = df['height (cm)'].astype(int)"
   ]
  },
  {
   "cell_type": "code",
   "execution_count": 47,
   "id": "dca47efe",
   "metadata": {},
   "outputs": [
    {
     "name": "stdout",
     "output_type": "stream",
     "text": [
      "<class 'pandas.core.frame.DataFrame'>\n",
      "RangeIndex: 56 entries, 0 to 55\n",
      "Data columns (total 9 columns):\n",
      " #   Column          Non-Null Count  Dtype \n",
      "---  ------          --------------  ----- \n",
      " 0   character name  56 non-null     object\n",
      " 1   age             56 non-null     int32 \n",
      " 2   height          56 non-null     int32 \n",
      " 3   special powers  56 non-null     object\n",
      " 4   country         56 non-null     object\n",
      " 5   gender          56 non-null     object\n",
      " 6   species         56 non-null     object\n",
      " 7   movie           56 non-null     object\n",
      " 8   release date    56 non-null     int64 \n",
      "dtypes: int32(2), int64(1), object(6)\n",
      "memory usage: 3.6+ KB\n"
     ]
    }
   ],
   "source": [
    "df.info()"
   ]
  },
  {
   "cell_type": "code",
   "execution_count": 42,
   "id": "b23550ac",
   "metadata": {},
   "outputs": [],
   "source": [
    "df['special powers'] = df['special powers'].fillna('None')"
   ]
  },
  {
   "cell_type": "code",
   "execution_count": 44,
   "id": "8ea0f8e7",
   "metadata": {},
   "outputs": [],
   "source": [
    "df.rename(columns={'country / place of residence': 'country','height (cm)': 'height'}, inplace=True)"
   ]
  },
  {
   "cell_type": "code",
   "execution_count": 49,
   "id": "fdd2caf0",
   "metadata": {},
   "outputs": [],
   "source": [
    "df.columns = df.columns.str.replace(' ','_')"
   ]
  },
  {
   "cell_type": "code",
   "execution_count": 75,
   "id": "0c77772b",
   "metadata": {},
   "outputs": [],
   "source": [
    "df['special_powers']= df['special_powers'].str.split(', ')\n",
    "df_ghibli = df.explode('special_powers').reset_index(drop = True)"
   ]
  },
  {
   "cell_type": "code",
   "execution_count": 76,
   "id": "f5dd1738",
   "metadata": {},
   "outputs": [],
   "source": [
    "df['special_powers'] = df['special_powers'].apply(lambda x: ', '.join(x) if isinstance(x, list) else x)\n"
   ]
  },
  {
   "cell_type": "code",
   "execution_count": 77,
   "id": "e51bf283",
   "metadata": {},
   "outputs": [
    {
     "data": {
      "text/plain": [
       "array(['Totoro', 'Chihiro', 'Haku', 'Princess Mononoke', 'Ashitaka',\n",
       "       'Satsuki', 'Mei', 'Jiji', 'Kiki', 'Howl', 'Sophie', 'Calcifer',\n",
       "       'Nausicaä', 'Ningyo', 'San', 'Pazu', 'Sheeta', 'Shizuku', 'Seiji',\n",
       "       'Baron Humbert von Gikkingen', 'Haru', 'Muta', 'Ponyo', 'Sosuke',\n",
       "       'Rin', 'Arren', 'Princess Kaguya', 'Okkoto', 'Lily', 'Marnie',\n",
       "       'Anna', 'Lettie', 'Red', 'No-Face', 'Yubaba', 'Kamaji', 'Zeniba',\n",
       "       'Ursula', 'Tombo', 'Shishigami', 'Lasseter', 'Turnip Head',\n",
       "       'Markl', 'Fanny', 'Heen', 'Soot', 'Goro', 'Fujimoto', 'Granmamma',\n",
       "       'Porco Rosso', 'Curtis', 'Gina', 'Setsuko', 'Fio', 'Seita'],\n",
       "      dtype=object)"
      ]
     },
     "execution_count": 77,
     "metadata": {},
     "output_type": "execute_result"
    }
   ],
   "source": [
    "df_ghibli['character_name'].unique()"
   ]
  },
  {
   "cell_type": "code",
   "execution_count": 78,
   "id": "1efe2752",
   "metadata": {},
   "outputs": [
    {
     "data": {
      "text/plain": [
       "array(['Flight', 'teleportation', 'None', 'shapeshifting',\n",
       "       'Super strength', 'agility', 'Shapeshifting', 'broomstick flying',\n",
       "       'flight', 'magic', 'Fire manipulation', 'Telepathy',\n",
       "       'communication with insects', 'communication with wolves',\n",
       "       'Telekinesis', 'control over levitation crystals',\n",
       "       'Shapeshifting into a cat', 'Shapeshifting into a fish',\n",
       "       'Shape-shifting', 'size manipulation', 'telekinesis',\n",
       "       'shapeshifting into a boar'], dtype=object)"
      ]
     },
     "execution_count": 78,
     "metadata": {},
     "output_type": "execute_result"
    }
   ],
   "source": [
    "df_ghibli['special_powers'].unique()\n"
   ]
  },
  {
   "cell_type": "markdown",
   "id": "903820a9",
   "metadata": {},
   "source": [
    "## Exporting to sql server"
   ]
  },
  {
   "cell_type": "code",
   "execution_count": 82,
   "id": "226581fc",
   "metadata": {},
   "outputs": [
    {
     "name": "stdout",
     "output_type": "stream",
     "text": [
      "Data successfully exported to SQL Server!\n"
     ]
    }
   ],
   "source": [
    "import pandas as pd\n",
    "from sqlalchemy import create_engine\n",
    "\n",
    "server = \"LAPTOP-S01ARRIK\\SQLEXPRESS\"\n",
    "database = \"yashdb\"\n",
    "engine = create_engine(f\"mssql+pyodbc://@LAPTOP-S01ARRIK\\SQLEXPRESS/yashdb?trusted_connection=yes&driver=ODBC+Driver+17+for+SQL+Server\")\n",
    "\n",
    "df.to_sql(\"df_ghibli\", con=engine, if_exists=\"append\", index=False)\n",
    "\n",
    "print(\"Data successfully exported to SQL Server!\")\n"
   ]
  },
  {
   "cell_type": "code",
   "execution_count": 67,
   "id": "5b47c9a1",
   "metadata": {},
   "outputs": [
    {
     "data": {
      "text/plain": [
       "character_name    1\n",
       "age               1\n",
       "height            1\n",
       "special_powers    1\n",
       "country           1\n",
       "gender            1\n",
       "species           1\n",
       "movie             1\n",
       "release_date      1\n",
       "dtype: int64"
      ]
     },
     "execution_count": 67,
     "metadata": {},
     "output_type": "execute_result"
    }
   ],
   "source": [
    "df.columns.value_counts()"
   ]
  },
  {
   "cell_type": "code",
   "execution_count": 80,
   "id": "0fcec97d",
   "metadata": {},
   "outputs": [],
   "source": [
    "df.to_csv(\"df_ghibli.csv\", index=False)"
   ]
  },
  {
   "cell_type": "code",
   "execution_count": null,
   "id": "d260ec4f",
   "metadata": {},
   "outputs": [],
   "source": []
  }
 ],
 "metadata": {
  "kernelspec": {
   "display_name": "Python 3 (ipykernel)",
   "language": "python",
   "name": "python3"
  },
  "language_info": {
   "codemirror_mode": {
    "name": "ipython",
    "version": 3
   },
   "file_extension": ".py",
   "mimetype": "text/x-python",
   "name": "python",
   "nbconvert_exporter": "python",
   "pygments_lexer": "ipython3",
   "version": "3.10.4"
  }
 },
 "nbformat": 4,
 "nbformat_minor": 5
}
